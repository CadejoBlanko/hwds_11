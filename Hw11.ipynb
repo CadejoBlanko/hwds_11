{
 "cells": [
  {
   "cell_type": "code",
   "execution_count": 2,
   "id": "d11e9900",
   "metadata": {},
   "outputs": [
    {
     "name": "stdout",
     "output_type": "stream",
     "text": [
      "WARNING:tensorflow:From C:\\Users\\sasha\\anaconda3\\Lib\\site-packages\\keras\\src\\losses.py:2976: The name tf.losses.sparse_softmax_cross_entropy is deprecated. Please use tf.compat.v1.losses.sparse_softmax_cross_entropy instead.\n",
      "\n"
     ]
    }
   ],
   "source": [
    "import numpy as np\n",
    "from tensorflow.keras.datasets import imdb\n",
    "from tensorflow.keras.preprocessing.sequence import pad_sequences\n",
    "from tensorflow.keras.models import Sequential\n",
    "from tensorflow.keras.layers import Embedding, SimpleRNN, LSTM, Bidirectional, Dense"
   ]
  },
  {
   "cell_type": "markdown",
   "id": "dc5f4946",
   "metadata": {},
   "source": [
    "## Підготовка даних для тренування та тестування моделі на датасеті IMDB"
   ]
  },
  {
   "cell_type": "code",
   "execution_count": 3,
   "id": "d352b539",
   "metadata": {},
   "outputs": [
    {
     "name": "stdout",
     "output_type": "stream",
     "text": [
      "Downloading data from https://storage.googleapis.com/tensorflow/tf-keras-datasets/imdb.npz\n",
      "17464789/17464789 [==============================] - 35s 2us/step\n"
     ]
    }
   ],
   "source": [
    "num_words = 10000\n",
    "maxlen = 200\n",
    "\n",
    "(X_train, y_train), (X_test, y_test) = imdb.load_data(num_words=num_words)\n",
    "X_train = pad_sequences(X_train, maxlen=maxlen)\n",
    "X_test = pad_sequences(X_test, maxlen=maxlen)"
   ]
  },
  {
   "cell_type": "markdown",
   "id": "dc687d21",
   "metadata": {},
   "source": [
    "## Рекурентна нейронна мережа (RNN)"
   ]
  },
  {
   "cell_type": "code",
   "execution_count": 4,
   "id": "64899c31",
   "metadata": {},
   "outputs": [
    {
     "name": "stdout",
     "output_type": "stream",
     "text": [
      "WARNING:tensorflow:From C:\\Users\\sasha\\anaconda3\\Lib\\site-packages\\keras\\src\\backend.py:873: The name tf.get_default_graph is deprecated. Please use tf.compat.v1.get_default_graph instead.\n",
      "\n",
      "WARNING:tensorflow:From C:\\Users\\sasha\\anaconda3\\Lib\\site-packages\\keras\\src\\optimizers\\__init__.py:309: The name tf.train.Optimizer is deprecated. Please use tf.compat.v1.train.Optimizer instead.\n",
      "\n",
      "Model: \"sequential\"\n",
      "_________________________________________________________________\n",
      " Layer (type)                Output Shape              Param #   \n",
      "=================================================================\n",
      " embedding (Embedding)       (None, None, 32)          320000    \n",
      "                                                                 \n",
      " simple_rnn (SimpleRNN)      (None, 64)                6208      \n",
      "                                                                 \n",
      " dense (Dense)               (None, 1)                 65        \n",
      "                                                                 \n",
      "=================================================================\n",
      "Total params: 326273 (1.24 MB)\n",
      "Trainable params: 326273 (1.24 MB)\n",
      "Non-trainable params: 0 (0.00 Byte)\n",
      "_________________________________________________________________\n"
     ]
    }
   ],
   "source": [
    "model_rnn = Sequential()\n",
    "model_rnn.add(Embedding(num_words, 32))\n",
    "model_rnn.add(SimpleRNN(64))\n",
    "model_rnn.add(Dense(1, activation='sigmoid'))\n",
    "\n",
    "model_rnn.compile(optimizer='adam', loss='binary_crossentropy', metrics=['accuracy'])\n",
    "\n",
    "model_rnn.summary()"
   ]
  },
  {
   "cell_type": "markdown",
   "id": "4776fa6c",
   "metadata": {},
   "source": [
    "## Навчання рекурентної нейронної мережі"
   ]
  },
  {
   "cell_type": "code",
   "execution_count": 5,
   "id": "6c38d0ce",
   "metadata": {},
   "outputs": [
    {
     "name": "stdout",
     "output_type": "stream",
     "text": [
      "Epoch 1/10\n",
      "WARNING:tensorflow:From C:\\Users\\sasha\\anaconda3\\Lib\\site-packages\\keras\\src\\utils\\tf_utils.py:492: The name tf.ragged.RaggedTensorValue is deprecated. Please use tf.compat.v1.ragged.RaggedTensorValue instead.\n",
      "\n",
      "WARNING:tensorflow:From C:\\Users\\sasha\\anaconda3\\Lib\\site-packages\\keras\\src\\engine\\base_layer_utils.py:384: The name tf.executing_eagerly_outside_functions is deprecated. Please use tf.compat.v1.executing_eagerly_outside_functions instead.\n",
      "\n",
      "196/196 [==============================] - 21s 95ms/step - loss: 0.6190 - accuracy: 0.6410 - val_loss: 0.4355 - val_accuracy: 0.8061\n",
      "Epoch 2/10\n",
      "196/196 [==============================] - 23s 118ms/step - loss: 0.3834 - accuracy: 0.8377 - val_loss: 0.4128 - val_accuracy: 0.8193\n",
      "Epoch 3/10\n",
      "196/196 [==============================] - 23s 116ms/step - loss: 0.3251 - accuracy: 0.8700 - val_loss: 0.4036 - val_accuracy: 0.8243\n",
      "Epoch 4/10\n",
      "196/196 [==============================] - 23s 117ms/step - loss: 0.2635 - accuracy: 0.8984 - val_loss: 0.3849 - val_accuracy: 0.8432\n",
      "Epoch 5/10\n",
      "196/196 [==============================] - 23s 120ms/step - loss: 0.2710 - accuracy: 0.8914 - val_loss: 0.4313 - val_accuracy: 0.8176\n",
      "Epoch 6/10\n",
      "196/196 [==============================] - 21s 106ms/step - loss: 0.1618 - accuracy: 0.9410 - val_loss: 0.4695 - val_accuracy: 0.8186\n",
      "Epoch 7/10\n",
      "196/196 [==============================] - 20s 104ms/step - loss: 0.0830 - accuracy: 0.9736 - val_loss: 0.5717 - val_accuracy: 0.8100\n",
      "Epoch 8/10\n",
      "196/196 [==============================] - 20s 102ms/step - loss: 0.0438 - accuracy: 0.9877 - val_loss: 0.6610 - val_accuracy: 0.8093\n",
      "Epoch 9/10\n",
      "196/196 [==============================] - 20s 103ms/step - loss: 0.0467 - accuracy: 0.9858 - val_loss: 0.7591 - val_accuracy: 0.8106\n",
      "Epoch 10/10\n",
      "196/196 [==============================] - 21s 105ms/step - loss: 0.0273 - accuracy: 0.9921 - val_loss: 0.7868 - val_accuracy: 0.8132\n",
      "Test Accuracy: 81.32%\n"
     ]
    }
   ],
   "source": [
    "model_rnn.fit(X_train, y_train, validation_data=(X_test, y_test), epochs=10, batch_size=128)\n",
    "\n",
    "loss, accuracy = model_rnn.evaluate(X_test, y_test, verbose=0)\n",
    "print('Test Accuracy: {:.2f}%'.format(accuracy * 100))"
   ]
  },
  {
   "cell_type": "markdown",
   "id": "e120e3d9",
   "metadata": {},
   "source": [
    "## Long Short-Term Memory (LSTM)"
   ]
  },
  {
   "cell_type": "code",
   "execution_count": 6,
   "id": "71d81b07",
   "metadata": {},
   "outputs": [
    {
     "name": "stdout",
     "output_type": "stream",
     "text": [
      "Model: \"sequential_1\"\n",
      "_________________________________________________________________\n",
      " Layer (type)                Output Shape              Param #   \n",
      "=================================================================\n",
      " embedding_1 (Embedding)     (None, None, 32)          320000    \n",
      "                                                                 \n",
      " lstm (LSTM)                 (None, 64)                24832     \n",
      "                                                                 \n",
      " dense_1 (Dense)             (None, 1)                 65        \n",
      "                                                                 \n",
      "=================================================================\n",
      "Total params: 344897 (1.32 MB)\n",
      "Trainable params: 344897 (1.32 MB)\n",
      "Non-trainable params: 0 (0.00 Byte)\n",
      "_________________________________________________________________\n"
     ]
    }
   ],
   "source": [
    "model_lstm = Sequential()\n",
    "model_lstm.add(Embedding(num_words, 32))\n",
    "model_lstm.add(LSTM(64))\n",
    "model_lstm.add(Dense(1, activation='sigmoid'))\n",
    "\n",
    "model_lstm.compile(optimizer='adam', loss='binary_crossentropy', metrics=['accuracy'])\n",
    "\n",
    "model_lstm.summary()"
   ]
  },
  {
   "cell_type": "markdown",
   "id": "8d6fe674",
   "metadata": {},
   "source": [
    "## Навчання моделі LSTM"
   ]
  },
  {
   "cell_type": "code",
   "execution_count": 7,
   "id": "25fcc0e6",
   "metadata": {},
   "outputs": [
    {
     "name": "stdout",
     "output_type": "stream",
     "text": [
      "Epoch 1/10\n",
      "196/196 [==============================] - 65s 293ms/step - loss: 0.4361 - accuracy: 0.7926 - val_loss: 0.3627 - val_accuracy: 0.8448\n",
      "Epoch 2/10\n",
      "196/196 [==============================] - 57s 292ms/step - loss: 0.2320 - accuracy: 0.9097 - val_loss: 0.3007 - val_accuracy: 0.8713\n",
      "Epoch 3/10\n",
      "196/196 [==============================] - 63s 321ms/step - loss: 0.1722 - accuracy: 0.9369 - val_loss: 0.3584 - val_accuracy: 0.8640\n",
      "Epoch 4/10\n",
      "196/196 [==============================] - 76s 389ms/step - loss: 0.1402 - accuracy: 0.9488 - val_loss: 0.3637 - val_accuracy: 0.8648\n",
      "Epoch 5/10\n",
      "196/196 [==============================] - 57s 291ms/step - loss: 0.1103 - accuracy: 0.9612 - val_loss: 0.4086 - val_accuracy: 0.8598\n",
      "Epoch 6/10\n",
      "196/196 [==============================] - 58s 297ms/step - loss: 0.0898 - accuracy: 0.9700 - val_loss: 0.4534 - val_accuracy: 0.8561\n",
      "Epoch 7/10\n",
      "196/196 [==============================] - 58s 295ms/step - loss: 0.0772 - accuracy: 0.9736 - val_loss: 0.4734 - val_accuracy: 0.8531\n",
      "Epoch 8/10\n",
      "196/196 [==============================] - 60s 308ms/step - loss: 0.0798 - accuracy: 0.9732 - val_loss: 0.6215 - val_accuracy: 0.8484\n",
      "Epoch 9/10\n",
      "196/196 [==============================] - 57s 290ms/step - loss: 0.0667 - accuracy: 0.9782 - val_loss: 0.5920 - val_accuracy: 0.8473\n",
      "Epoch 10/10\n",
      "196/196 [==============================] - 56s 286ms/step - loss: 0.0554 - accuracy: 0.9819 - val_loss: 0.6045 - val_accuracy: 0.8497\n",
      "Test Accuracy: 84.97%\n"
     ]
    }
   ],
   "source": [
    "model_lstm.fit(X_train, y_train, validation_data=(X_test, y_test), epochs=10, batch_size=128)\n",
    "\n",
    "loss, accuracy = model_lstm.evaluate(X_test, y_test, verbose=0)\n",
    "print('Test Accuracy: {:.2f}%'.format(accuracy * 100))"
   ]
  },
  {
   "cell_type": "markdown",
   "id": "2ae8bfc9",
   "metadata": {},
   "source": [
    "## Двостороння мережа (Bidirectional LSTM)"
   ]
  },
  {
   "cell_type": "code",
   "execution_count": 8,
   "id": "850a12ed",
   "metadata": {},
   "outputs": [
    {
     "name": "stdout",
     "output_type": "stream",
     "text": [
      "Model: \"sequential_2\"\n",
      "_________________________________________________________________\n",
      " Layer (type)                Output Shape              Param #   \n",
      "=================================================================\n",
      " embedding_2 (Embedding)     (None, None, 32)          320000    \n",
      "                                                                 \n",
      " bidirectional (Bidirection  (None, 128)               49664     \n",
      " al)                                                             \n",
      "                                                                 \n",
      " dense_2 (Dense)             (None, 1)                 129       \n",
      "                                                                 \n",
      "=================================================================\n",
      "Total params: 369793 (1.41 MB)\n",
      "Trainable params: 369793 (1.41 MB)\n",
      "Non-trainable params: 0 (0.00 Byte)\n",
      "_________________________________________________________________\n"
     ]
    }
   ],
   "source": [
    "model_bidirectional = Sequential()\n",
    "model_bidirectional.add(Embedding(num_words, 32))\n",
    "model_bidirectional.add(Bidirectional(LSTM(64)))\n",
    "model_bidirectional.add(Dense(1, activation='sigmoid'))\n",
    "\n",
    "model_bidirectional.compile(optimizer='adam', loss='binary_crossentropy', metrics=['accuracy'])\n",
    "\n",
    "model_bidirectional.summary()"
   ]
  },
  {
   "cell_type": "markdown",
   "id": "23a9ae00",
   "metadata": {},
   "source": [
    "## Навчання моделі з бідирекційним LSTM"
   ]
  },
  {
   "cell_type": "code",
   "execution_count": 9,
   "id": "bd106c40",
   "metadata": {},
   "outputs": [
    {
     "name": "stdout",
     "output_type": "stream",
     "text": [
      "Epoch 1/10\n",
      "196/196 [==============================] - 107s 496ms/step - loss: 0.4768 - accuracy: 0.7688 - val_loss: 0.3193 - val_accuracy: 0.8684\n",
      "Epoch 2/10\n",
      "196/196 [==============================] - 99s 507ms/step - loss: 0.2515 - accuracy: 0.9028 - val_loss: 0.3360 - val_accuracy: 0.8572\n",
      "Epoch 3/10\n",
      "196/196 [==============================] - 103s 524ms/step - loss: 0.1886 - accuracy: 0.9304 - val_loss: 0.3124 - val_accuracy: 0.8715\n",
      "Epoch 4/10\n",
      "196/196 [==============================] - 103s 525ms/step - loss: 0.1495 - accuracy: 0.9475 - val_loss: 0.3224 - val_accuracy: 0.8639\n",
      "Epoch 5/10\n",
      "196/196 [==============================] - 102s 522ms/step - loss: 0.1269 - accuracy: 0.9561 - val_loss: 0.4455 - val_accuracy: 0.8558\n",
      "Epoch 6/10\n",
      "196/196 [==============================] - 96s 488ms/step - loss: 0.1052 - accuracy: 0.9630 - val_loss: 0.4300 - val_accuracy: 0.8606\n",
      "Epoch 7/10\n",
      "196/196 [==============================] - 101s 517ms/step - loss: 0.0835 - accuracy: 0.9729 - val_loss: 0.4795 - val_accuracy: 0.8499\n",
      "Epoch 8/10\n",
      "196/196 [==============================] - 101s 518ms/step - loss: 0.0689 - accuracy: 0.9782 - val_loss: 0.6073 - val_accuracy: 0.8483\n",
      "Epoch 9/10\n",
      "196/196 [==============================] - 101s 515ms/step - loss: 0.0715 - accuracy: 0.9756 - val_loss: 0.5532 - val_accuracy: 0.8478\n",
      "Epoch 10/10\n",
      "196/196 [==============================] - 98s 498ms/step - loss: 0.0579 - accuracy: 0.9816 - val_loss: 0.6685 - val_accuracy: 0.8470\n",
      "Test Accuracy: 84.70%\n"
     ]
    }
   ],
   "source": [
    "model_bidirectional.fit(X_train, y_train, validation_data=(X_test, y_test), epochs=10, batch_size=128)\n",
    "\n",
    "loss, accuracy = model_bidirectional.evaluate(X_test, y_test, verbose=0)\n",
    "print('Test Accuracy: {:.2f}%'.format(accuracy * 100))"
   ]
  },
  {
   "cell_type": "markdown",
   "id": "585f9882",
   "metadata": {},
   "source": [
    "##  Глибока модель з двома шарами LSTM"
   ]
  },
  {
   "cell_type": "code",
   "execution_count": 10,
   "id": "839c3ca1",
   "metadata": {},
   "outputs": [
    {
     "name": "stdout",
     "output_type": "stream",
     "text": [
      "Model: \"sequential_3\"\n",
      "_________________________________________________________________\n",
      " Layer (type)                Output Shape              Param #   \n",
      "=================================================================\n",
      " embedding_3 (Embedding)     (None, None, 32)          320000    \n",
      "                                                                 \n",
      " lstm_2 (LSTM)               (None, None, 64)          24832     \n",
      "                                                                 \n",
      " lstm_3 (LSTM)               (None, 64)                33024     \n",
      "                                                                 \n",
      " dense_3 (Dense)             (None, 1)                 65        \n",
      "                                                                 \n",
      "=================================================================\n",
      "Total params: 377921 (1.44 MB)\n",
      "Trainable params: 377921 (1.44 MB)\n",
      "Non-trainable params: 0 (0.00 Byte)\n",
      "_________________________________________________________________\n"
     ]
    }
   ],
   "source": [
    "model_deep = Sequential()\n",
    "model_deep.add(Embedding(num_words, 32))\n",
    "model_deep.add(LSTM(64, return_sequences=True))\n",
    "model_deep.add(LSTM(64))\n",
    "model_deep.add(Dense(1, activation='sigmoid'))\n",
    "\n",
    "model_deep.compile(optimizer='adam', loss='binary_crossentropy', metrics=['accuracy'])\n",
    "\n",
    "model_deep.summary()"
   ]
  },
  {
   "cell_type": "markdown",
   "id": "e3eef3f7",
   "metadata": {},
   "source": [
    "## Навчання глибокої моделі"
   ]
  },
  {
   "cell_type": "code",
   "execution_count": 11,
   "id": "271ecfbb",
   "metadata": {},
   "outputs": [
    {
     "name": "stdout",
     "output_type": "stream",
     "text": [
      "Epoch 1/10\n",
      "196/196 [==============================] - 140s 666ms/step - loss: 0.4690 - accuracy: 0.7654 - val_loss: 0.3241 - val_accuracy: 0.8641\n",
      "Epoch 2/10\n",
      "196/196 [==============================] - 135s 691ms/step - loss: 0.2447 - accuracy: 0.9047 - val_loss: 0.3081 - val_accuracy: 0.8698\n",
      "Epoch 3/10\n",
      "196/196 [==============================] - 143s 733ms/step - loss: 0.1802 - accuracy: 0.9347 - val_loss: 0.3353 - val_accuracy: 0.8635\n",
      "Epoch 4/10\n",
      "196/196 [==============================] - 145s 739ms/step - loss: 0.1387 - accuracy: 0.9526 - val_loss: 0.3641 - val_accuracy: 0.8606\n",
      "Epoch 5/10\n",
      "196/196 [==============================] - 138s 706ms/step - loss: 0.1023 - accuracy: 0.9647 - val_loss: 0.4083 - val_accuracy: 0.8567\n",
      "Epoch 6/10\n",
      "196/196 [==============================] - 147s 752ms/step - loss: 0.0772 - accuracy: 0.9758 - val_loss: 0.5262 - val_accuracy: 0.8524\n",
      "Epoch 7/10\n",
      "196/196 [==============================] - 143s 730ms/step - loss: 0.0606 - accuracy: 0.9808 - val_loss: 0.5776 - val_accuracy: 0.8491\n",
      "Epoch 8/10\n",
      "196/196 [==============================] - 143s 730ms/step - loss: 0.0550 - accuracy: 0.9815 - val_loss: 0.6689 - val_accuracy: 0.8495\n",
      "Epoch 9/10\n",
      "196/196 [==============================] - 143s 729ms/step - loss: 0.0347 - accuracy: 0.9895 - val_loss: 0.6128 - val_accuracy: 0.8486\n",
      "Epoch 10/10\n",
      "196/196 [==============================] - 138s 705ms/step - loss: 0.0308 - accuracy: 0.9914 - val_loss: 0.7122 - val_accuracy: 0.8460\n",
      "Test Accuracy: 84.60%\n"
     ]
    }
   ],
   "source": [
    "model_deep.fit(X_train, y_train, validation_data=(X_test, y_test), epochs=10, batch_size=128)\n",
    "\n",
    "loss, accuracy = model_deep.evaluate(X_test, y_test, verbose=0)\n",
    "print('Test Accuracy: {:.2f}%'.format(accuracy * 100))"
   ]
  },
  {
   "cell_type": "markdown",
   "id": "01c3dcdf",
   "metadata": {},
   "source": [
    "## Після навчання і оцінки кожної моделі можна зробити такі висновки:\n",
    "\n",
    "Проста RNN модель має найгіршу точність (близько 81.32%), тому що вона не дуже добре розуміє довгострокові залежності у тексті.\n",
    "\n",
    "LSTM: Покращує точність до близько 84.97%. LSTM краще розуміє довгострокові залежності, тому вона працює краще за просту RNN.\n",
    "\n",
    "Бідирекційний LSTM: Досягає приблизно 84.70% точності. Ця модель може краще розуміти контекст у тексті в обидва напрямки, що може поліпшити точність.\n",
    "\n",
    "Глибока модель з двома шарами LSTM: Точність близько 84.60%. Додавання ще одного шару LSTM допомагає краще розуміти складніші залежності.\n",
    "\n",
    "Отже, найкращу точність демонструє модель з використанням LSTM."
   ]
  },
  {
   "cell_type": "code",
   "execution_count": null,
   "id": "8567cffb",
   "metadata": {},
   "outputs": [],
   "source": []
  }
 ],
 "metadata": {
  "kernelspec": {
   "display_name": "Python 3 (ipykernel)",
   "language": "python",
   "name": "python3"
  },
  "language_info": {
   "codemirror_mode": {
    "name": "ipython",
    "version": 3
   },
   "file_extension": ".py",
   "mimetype": "text/x-python",
   "name": "python",
   "nbconvert_exporter": "python",
   "pygments_lexer": "ipython3",
   "version": "3.11.5"
  }
 },
 "nbformat": 4,
 "nbformat_minor": 5
}
